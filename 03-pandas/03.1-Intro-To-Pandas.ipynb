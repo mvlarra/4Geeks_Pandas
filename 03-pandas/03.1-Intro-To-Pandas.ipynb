{
  "cells": [
    {
      "cell_type": "markdown",
      "metadata": {
        "colab_type": "text",
        "id": "view-in-github"
      },
      "source": [
        "<a href=\"https://colab.research.google.com/github/mvlarra/4Geeks_Pandas/blob/main/03-pandas/03.1-Intro-To-Pandas.ipynb\" target=\"_parent\"><img src=\"https://colab.research.google.com/assets/colab-badge.svg\" alt=\"Open In Colab\"/></a>"
      ]
    },
    {
      "cell_type": "markdown",
      "id": "bdfbcacc",
      "metadata": {
        "id": "bdfbcacc"
      },
      "source": [
        "![Pandas logo](https://github.com/4GeeksAcademy/machine-learning-prework/blob/main/03-pandas/assets/pandas_logo.png?raw=true)\n",
        "\n",
        "## Introduction to Python Pandas\n",
        "\n",
        "**Pandas** is an open-source python library that provides data structures and is designed to handle and analyze tabular data in Python. Pandas is based on NumPy, which allows it to integrate well into the data science ecosystem alongside other libraries such as `Scikit-learn` and `Matplotlib`.\n",
        "\n",
        "Specifically, the key points of this library are:\n",
        "\n",
        "- **Data structures**: This library provides two structures for working with data. These are the `Series` which are labeled one-dimensional arrays, similar to a vector, list or sequence and which is able to contain any type of data, and the `DataFrames`, which is a labeled two-dimensional structure with columns that can be of different types, similar to a spreadsheet or a SQL table.\n",
        "- **Data manipulation**: Pandas allows you to carry out an exhaustive data analysis through functions that can be applied directly on your data structures. These operations include missing data control, data filtering, merging, combining and joining data from different sources...\n",
        "- **Efficiency**: All operations and/or functions that are applied on data structures are vectorized to improve performance compared to traditional Python loops and iterators.\n",
        "\n",
        "Pandas is a fundamental tool for any developer working with data in Python, as it provides a wide variety of tools for data exploration, cleaning and transformation, making the analysis process more efficient and effective."
      ]
    },
    {
      "cell_type": "markdown",
      "id": "40631cd6",
      "metadata": {
        "id": "40631cd6"
      },
      "source": [
        "### Data Structures in Python Pandas\n",
        "\n",
        "Pandas provides two main data structures: `Series` and `DataFrames`.\n",
        "\n",
        "#### Series\n",
        "\n",
        "A **series** in Pandas is a one-dimensional labeled data structure. It is similar to a 1D array in NumPy, but has an index that allows access to the values by label. A series can contain any kind of data: integers, strings, Python objects...\n",
        "\n",
        "![Example of a series](https://github.com/4GeeksAcademy/machine-learning-prework/blob/main/03-pandas/assets/series.PNG?raw=true)\n",
        "\n",
        "A Pandas series has two distinct parts:\n",
        "\n",
        "- **Index** (*index*): An array of tags associated with the data.\n",
        "- **Value** (*value*): An array of data.\n",
        "\n",
        "A series can be created using the `Series` class of the library with a list of elements as an argument. For example:"
      ]
    },
    {
      "cell_type": "code",
      "execution_count": 2,
      "id": "21653d4f",
      "metadata": {
        "id": "21653d4f",
        "outputId": "0b1b9a89-0514-4771-a197-31bf62268fb5"
      },
      "outputs": [
        {
          "data": {
            "text/plain": [
              "0    1\n",
              "1    2\n",
              "2    3\n",
              "3    4\n",
              "4    5\n",
              "dtype: int64"
            ]
          },
          "execution_count": 2,
          "metadata": {},
          "output_type": "execute_result"
        }
      ],
      "source": [
        "import pandas as pd\n",
        "\n",
        "serie = pd.Series([1, 2, 3, 4, 5])\n",
        "serie"
      ]
    },
    {
      "cell_type": "markdown",
      "id": "d1c2dda1",
      "metadata": {
        "id": "d1c2dda1"
      },
      "source": [
        "This will create a series with elements 1, 2, 3, 4 and 5. In addition, since we have not included information about the indexes, an automatic index is generated starting at 0:"
      ]
    },
    {
      "cell_type": "code",
      "execution_count": 3,
      "id": "2d4c091d",
      "metadata": {
        "id": "2d4c091d",
        "outputId": "c0103ab7-00f1-44f1-8e6c-cca8c1ab0fcd"
      },
      "outputs": [
        {
          "data": {
            "text/plain": [
              "a    1\n",
              "b    2\n",
              "c    3\n",
              "d    4\n",
              "e    5\n",
              "dtype: int64"
            ]
          },
          "execution_count": 3,
          "metadata": {},
          "output_type": "execute_result"
        }
      ],
      "source": [
        "serie = pd.Series([1, 2, 3, 4, 5], index = [\"a\", \"b\", \"c\", \"d\", \"e\"])\n",
        "serie"
      ]
    },
    {
      "cell_type": "markdown",
      "id": "f7588c91",
      "metadata": {
        "id": "f7588c91"
      },
      "source": [
        "Thus, the previous series has an index composed of letters.\n",
        "\n",
        "Both series store the same values, but the way they are accessed may vary according to the index.\n",
        "\n",
        "In a series, its elements can be accessed by index or by position (the latter is what we did in NumPy). Below are some operations that can be performed using the above series:"
      ]
    },
    {
      "cell_type": "code",
      "execution_count": 4,
      "id": "0f90b9e7",
      "metadata": {
        "id": "0f90b9e7",
        "outputId": "c572121b-66cc-4285-a7f1-93d782cc5950"
      },
      "outputs": [
        {
          "name": "stdout",
          "output_type": "stream",
          "text": [
            "3\n",
            "3\n",
            "a    1\n",
            "b    7\n",
            "c    3\n",
            "d    4\n",
            "e    5\n",
            "dtype: int64\n",
            "a    11\n",
            "b    17\n",
            "c    13\n",
            "d    14\n",
            "e    15\n",
            "dtype: int64\n",
            "70\n"
          ]
        },
        {
          "name": "stderr",
          "output_type": "stream",
          "text": [
            "/tmp/ipykernel_12310/1718565136.py:3: FutureWarning: Series.__getitem__ treating keys as positions is deprecated. In a future version, integer keys will always be treated as labels (consistent with DataFrame behavior). To access a value by position, use `ser.iloc[pos]`\n",
            "  print(serie[2]) # By position\n"
          ]
        }
      ],
      "source": [
        "# Access the third element\n",
        "print(serie[\"c\"]) # By index\n",
        "print(serie[2]) # By position\n",
        "\n",
        "# Change the value of the second element\n",
        "serie[\"b\"] = 7\n",
        "print(serie)\n",
        "\n",
        "# Add 10 to all elements\n",
        "serie += 10\n",
        "print(serie)\n",
        "\n",
        "# Calculate the sum of the elements\n",
        "sum_all = serie.sum()\n",
        "print(sum_all)"
      ]
    },
    {
      "cell_type": "markdown",
      "id": "e4fe3649",
      "metadata": {
        "id": "e4fe3649"
      },
      "source": [
        "#### Pandas DataFrame\n",
        "\n",
        "A **DataFrame** in Pandas is a two-dimensional labeled data structure. It is similar to a 2D array in NumPy, but has an index that allows access to the values per label, per row, and column.\n",
        "\n",
        "![Example of a DataFrame](https://github.com/4GeeksAcademy/machine-learning-prework/blob/main/03-pandas/assets/dataframe.PNG?raw=true)\n",
        "\n",
        "A DataFrame in Pandas has several differentiated parts:\n",
        "\n",
        "- **Data** (*data*): An array of values that can be of different types per column.\n",
        "- **Row index** (*row index*): An array of labels associated to the rows.\n",
        "- **Column index** (*column index*): An array of labels associated to the columns.\n",
        "\n",
        "A DataFrame can be seen as a set of series joined in a tabular structure, with an index per row in common and a column index specific to each series.\n",
        "\n",
        "![Series and DataFrames](https://github.com/4GeeksAcademy/machine-learning-prework/blob/main/03-pandas/assets/series_dataframe.png?raw=true?raw=true)\n",
        "\n",
        "A DataFrame can be created using the `DataFrame` class. For example:"
      ]
    },
    {
      "cell_type": "code",
      "execution_count": 5,
      "id": "3947a09a",
      "metadata": {
        "id": "3947a09a",
        "outputId": "b347e6f9-b644-4aae-cd76-5e25dafa5e95"
      },
      "outputs": [
        {
          "data": {
            "text/html": [
              "<div>\n",
              "<style scoped>\n",
              "    .dataframe tbody tr th:only-of-type {\n",
              "        vertical-align: middle;\n",
              "    }\n",
              "\n",
              "    .dataframe tbody tr th {\n",
              "        vertical-align: top;\n",
              "    }\n",
              "\n",
              "    .dataframe thead th {\n",
              "        text-align: right;\n",
              "    }\n",
              "</style>\n",
              "<table border=\"1\" class=\"dataframe\">\n",
              "  <thead>\n",
              "    <tr style=\"text-align: right;\">\n",
              "      <th></th>\n",
              "      <th>0</th>\n",
              "      <th>1</th>\n",
              "      <th>2</th>\n",
              "    </tr>\n",
              "  </thead>\n",
              "  <tbody>\n",
              "    <tr>\n",
              "      <th>0</th>\n",
              "      <td>1</td>\n",
              "      <td>2</td>\n",
              "      <td>3</td>\n",
              "    </tr>\n",
              "    <tr>\n",
              "      <th>1</th>\n",
              "      <td>4</td>\n",
              "      <td>5</td>\n",
              "      <td>6</td>\n",
              "    </tr>\n",
              "    <tr>\n",
              "      <th>2</th>\n",
              "      <td>7</td>\n",
              "      <td>8</td>\n",
              "      <td>9</td>\n",
              "    </tr>\n",
              "  </tbody>\n",
              "</table>\n",
              "</div>"
            ],
            "text/plain": [
              "   0  1  2\n",
              "0  1  2  3\n",
              "1  4  5  6\n",
              "2  7  8  9"
            ]
          },
          "execution_count": 5,
          "metadata": {},
          "output_type": "execute_result"
        }
      ],
      "source": [
        "dataframe = pd.DataFrame([[1, 2, 3], [4, 5, 6], [7, 8, 9]])\n",
        "dataframe"
      ]
    },
    {
      "cell_type": "markdown",
      "id": "ccf0e435",
      "metadata": {
        "id": "ccf0e435"
      },
      "source": [
        "This will create a DataFrame with three rows and three columns for each row. As was the case with series, a DataFrame will generate automatic indexes for rows and columns if they are not passed as arguments in the constructor of the class. If we wanted to create a new DataFrame with concrete indexes for rows and columns, it would be programmed as follows:"
      ]
    },
    {
      "cell_type": "code",
      "execution_count": 6,
      "id": "92f62a5c",
      "metadata": {
        "id": "92f62a5c",
        "outputId": "539c696e-c5e4-43c8-a84b-5f57cb0a0885"
      },
      "outputs": [
        {
          "data": {
            "text/html": [
              "<div>\n",
              "<style scoped>\n",
              "    .dataframe tbody tr th:only-of-type {\n",
              "        vertical-align: middle;\n",
              "    }\n",
              "\n",
              "    .dataframe tbody tr th {\n",
              "        vertical-align: top;\n",
              "    }\n",
              "\n",
              "    .dataframe thead th {\n",
              "        text-align: right;\n",
              "    }\n",
              "</style>\n",
              "<table border=\"1\" class=\"dataframe\">\n",
              "  <thead>\n",
              "    <tr style=\"text-align: right;\">\n",
              "      <th></th>\n",
              "      <th>col A</th>\n",
              "      <th>col B</th>\n",
              "      <th>col C</th>\n",
              "    </tr>\n",
              "  </thead>\n",
              "  <tbody>\n",
              "    <tr>\n",
              "      <th>a</th>\n",
              "      <td>1</td>\n",
              "      <td>4</td>\n",
              "      <td>7</td>\n",
              "    </tr>\n",
              "    <tr>\n",
              "      <th>b</th>\n",
              "      <td>2</td>\n",
              "      <td>5</td>\n",
              "      <td>8</td>\n",
              "    </tr>\n",
              "    <tr>\n",
              "      <th>c</th>\n",
              "      <td>3</td>\n",
              "      <td>6</td>\n",
              "      <td>9</td>\n",
              "    </tr>\n",
              "  </tbody>\n",
              "</table>\n",
              "</div>"
            ],
            "text/plain": [
              "   col A  col B  col C\n",
              "a      1      4      7\n",
              "b      2      5      8\n",
              "c      3      6      9"
            ]
          },
          "execution_count": 6,
          "metadata": {},
          "output_type": "execute_result"
        }
      ],
      "source": [
        "data = {\n",
        "    \"col A\": [1, 2, 3],\n",
        "    \"col B\": [4, 5, 6],\n",
        "    \"col C\": [7, 8, 9]\n",
        "}\n",
        "\n",
        "dataframe = pd.DataFrame(data, index = [\"a\", \"b\", \"c\"])\n",
        "dataframe"
      ]
    },
    {
      "cell_type": "markdown",
      "id": "758e57bd",
      "metadata": {
        "id": "758e57bd"
      },
      "source": [
        "In this way, a custom index is provided for the columns (labeling the rows within a dictionary) and for the rows (with the `index` argument, as was the case with the series).\n",
        "\n",
        "In a DataFrame its elements can be accessed by index or by position. Below are some operations that can be performed using the above DataFrame:"
      ]
    },
    {
      "cell_type": "code",
      "execution_count": 7,
      "id": "258c47ff",
      "metadata": {
        "id": "258c47ff",
        "outputId": "0f97e478-acf0-438f-8c7e-6c7338baa586"
      },
      "outputs": [
        {
          "name": "stdout",
          "output_type": "stream",
          "text": [
            "a    1\n",
            "b    2\n",
            "c    3\n",
            "Name: col A, dtype: int64\n",
            "a    1\n",
            "b    2\n",
            "c    3\n",
            "Name: col A, dtype: int64\n",
            "a    1\n",
            "b    2\n",
            "c    3\n",
            "Name: col A, dtype: int64\n",
            "col A    1\n",
            "col B    4\n",
            "col C    7\n",
            "Name: a, dtype: int64\n",
            "col A    1\n",
            "col B    4\n",
            "col C    7\n",
            "Name: a, dtype: int64\n",
            "1\n",
            "1\n",
            "   col A  col B  col C  col D\n",
            "a      1      4      7     10\n",
            "b      2      5      8     11\n",
            "c      3      6      9     12\n",
            "   col A  col B  col C  col D\n",
            "a      1      4      7     10\n",
            "b      2      5      8     11\n",
            "c      3      6      9     12\n",
            "d     13     14     15     16\n",
            "   col A  col B  col C  col D\n",
            "a     10      4      7     10\n",
            "b     20      5      8     11\n",
            "c     30      6      9     12\n",
            "d    130     14     15     16\n",
            "col A    190\n",
            "col B     29\n",
            "col C     39\n",
            "col D     49\n",
            "dtype: int64\n"
          ]
        }
      ],
      "source": [
        "# Access all the data in a column\n",
        "print(dataframe[\"col A\"]) # By index\n",
        "print(dataframe.loc[:,\"col A\"]) # By index\n",
        "print(dataframe.iloc[:,0]) # By position\n",
        "\n",
        "# Access all the data in a row\n",
        "print(dataframe.loc[\"a\"]) # By index\n",
        "print(dataframe.iloc[0]) # By position\n",
        "\n",
        "# Access to a specific element (row, column)\n",
        "print(dataframe.loc[\"a\", \"col A\"]) # By index\n",
        "print(dataframe.iloc[0, 0]) # By position\n",
        "\n",
        "# Create a new column\n",
        "dataframe[\"col D\"] = [10, 11, 12]\n",
        "print(dataframe)\n",
        "\n",
        "# Create a new row\n",
        "dataframe.loc[\"d\"] = [13, 14, 15, 16]\n",
        "print(dataframe)\n",
        "\n",
        "# Multiply by 10 the elements of a column\n",
        "dataframe[\"col A\"] *= 10\n",
        "print(dataframe)\n",
        "\n",
        "# Calculate the sum of all elements\n",
        "sum_all = dataframe.sum()\n",
        "print(sum_all)"
      ]
    },
    {
      "cell_type": "markdown",
      "id": "1ac3bdaa",
      "metadata": {
        "id": "1ac3bdaa"
      },
      "source": [
        "### Functions in Python Pandas\n",
        "\n",
        "Pandas provide a large number of predefined functions that can be applied on the data structures seen above. Some of the most used in data analysis are:"
      ]
    },
    {
      "cell_type": "code",
      "execution_count": 8,
      "id": "9a54370c",
      "metadata": {
        "id": "9a54370c",
        "outputId": "cdc60851-637b-40d8-b564-02685f03a8c1"
      },
      "outputs": [
        {
          "name": "stdout",
          "output_type": "stream",
          "text": [
            "Sum of series: 0    5\n",
            "1    7\n",
            "2    9\n",
            "dtype: int64\n",
            "Sum of DataFrames:     0   1   2\n",
            "0   8  10  12\n",
            "1  14  16  18\n",
            "Mean: 2.0\n",
            "Median: 2.0\n",
            "Number of elements: 3\n",
            "Standard deviation: 1.0\n",
            "Variance: 1.0\n",
            "Maximum value: 3\n",
            "Minimum value: 1\n",
            "Correlation: 1.0\n",
            "Statistic summary: count    3.0\n",
            "mean     2.0\n",
            "std      1.0\n",
            "min      1.0\n",
            "25%      1.5\n",
            "50%      2.0\n",
            "75%      2.5\n",
            "max      3.0\n",
            "dtype: float64\n"
          ]
        }
      ],
      "source": [
        "import pandas as pd\n",
        "\n",
        "s1 = pd.Series([1, 2, 3])\n",
        "s2 = pd.Series([4, 5, 6])\n",
        "d1 = pd.DataFrame([[1, 2, 3], [4, 5, 6]])\n",
        "d2 = pd.DataFrame([[7, 8, 9], [10, 11, 12]])\n",
        "\n",
        "# Arithmetic Operations\n",
        "print(\"Sum of series:\", s1.add(s2))\n",
        "print(\"Sum of DataFrames:\", d1.add(d2))\n",
        "\n",
        "# Statistical Operations\n",
        "# They can be applied in the same way to DataFrames\n",
        "print(\"Mean:\", s1.mean())\n",
        "print(\"Median:\", s1.median())\n",
        "print(\"Number of elements:\", s1.count())\n",
        "print(\"Standard deviation:\", s1.std())\n",
        "print(\"Variance:\", s1.var())\n",
        "print(\"Maximum value:\", s1.max())\n",
        "print(\"Minimum value:\", s1.min())\n",
        "print(\"Correlation:\", s1.corr(s2))\n",
        "print(\"Statistic summary:\", s1.describe())"
      ]
    },
    {
      "cell_type": "markdown",
      "id": "1837dc19",
      "metadata": {
        "id": "1837dc19"
      },
      "source": [
        "#### Pandas allows you to use custom python functions (including lambda)\n",
        "\n",
        "In addition to the Pandas predefined functions, we can also define and apply others to the data structures. To do this, we have to program the function to receive a value (or a column or row in the case of a DataFrame) and return another modified one, and reference it with `apply`.\n",
        "\n",
        "In addition, this function allows using **lambda expressions** for the anonymous declaration of functions.\n",
        "\n",
        "The following shows how to apply functions to series:"
      ]
    },
    {
      "cell_type": "code",
      "execution_count": 9,
      "id": "282d22bb",
      "metadata": {
        "id": "282d22bb",
        "outputId": "a6944599-603d-4d23-ec6a-97f351bff424"
      },
      "outputs": [
        {
          "name": "stdout",
          "output_type": "stream",
          "text": [
            "0     1\n",
            "1     4\n",
            "2     9\n",
            "3    16\n",
            "dtype: int64\n",
            "0     1\n",
            "1     4\n",
            "2     9\n",
            "3    16\n",
            "dtype: int64\n"
          ]
        }
      ],
      "source": [
        "import pandas as pd\n",
        "s = pd.Series([1, 2, 3, 4])\n",
        "\n",
        "# Explicit definition of the function\n",
        "def squared(x):\n",
        "    return x ** 2\n",
        "s1 = s.apply(squared)\n",
        "print(s1)\n",
        "\n",
        "# Anonymous definition of the function\n",
        "s2 = s.apply(lambda x: x ** 2)\n",
        "print(s2)"
      ]
    },
    {
      "cell_type": "markdown",
      "id": "40e3a3db",
      "metadata": {
        "id": "40e3a3db"
      },
      "source": [
        "The following shows how to apply functions to a DataFrame, which can be done by row, by column or by elements, similar to series:"
      ]
    },
    {
      "cell_type": "code",
      "execution_count": 10,
      "id": "7c96f45d",
      "metadata": {
        "id": "7c96f45d",
        "outputId": "8ee27a40-7565-4e42-e59d-3f9773165c5e"
      },
      "outputs": [
        {
          "name": "stdout",
          "output_type": "stream",
          "text": [
            "   A  B\n",
            "0  1  4\n",
            "1  4  5\n",
            "2  9  6\n",
            "   A   B\n",
            "0  1  16\n",
            "1  4   5\n",
            "2  9   6\n",
            "    A    B\n",
            "0   1  256\n",
            "1  16   25\n",
            "2  81   36\n"
          ]
        },
        {
          "name": "stderr",
          "output_type": "stream",
          "text": [
            "/tmp/ipykernel_12310/813581194.py:15: FutureWarning: DataFrame.applymap has been deprecated. Use DataFrame.map instead.\n",
            "  df = df.applymap(lambda x: x ** 2)\n"
          ]
        }
      ],
      "source": [
        "df = pd.DataFrame({\n",
        "    \"A\": [1, 2, 3],\n",
        "    \"B\": [4, 5, 6]\n",
        "})\n",
        "\n",
        "# Apply function along a column\n",
        "df[\"A\"] = df[\"A\"].apply(lambda x: x ** 2)\n",
        "print(df)\n",
        "\n",
        "# Apply function along a row\n",
        "df.loc[0] = df.loc[0].apply(lambda x: x ** 2)\n",
        "print(df)\n",
        "\n",
        "# Apply function to all elements\n",
        "df = df.applymap(lambda x: x ** 2)\n",
        "print(df)"
      ]
    },
    {
      "cell_type": "markdown",
      "id": "3acb43c7",
      "metadata": {
        "id": "3acb43c7"
      },
      "source": [
        "`apply` is more flexible than other vectorized Pandas functions, but can be slower, especially when applied to large data sets. It is always important to explore the Pandas or NumPy built-in functions first, as they are usually more efficient than the ones we could implement ourselves.\n",
        "\n",
        "Also, this function can return results in different ways, depending on the function applied and how it is configured."
      ]
    },
    {
      "cell_type": "markdown",
      "id": "a9f764b6",
      "metadata": {
        "id": "a9f764b6"
      },
      "source": [
        "## Start practicing the Pandas syntax in python righ now!\n",
        "\n",
        "> Click on Open in Colab to do the exercises\n",
        "\n",
        "> 🛟 Solutions: In this link you can find the [solutions for the following pandas exercises](https://4geeks.com/lesson/pandas-exercises-and-solutions).\n",
        "\n",
        "\n",
        "\n",
        "### Creation of Series and Pandas DataFrames"
      ]
    },
    {
      "cell_type": "code",
      "execution_count": 11,
      "id": "fAP_5MrDLH6k",
      "metadata": {
        "id": "fAP_5MrDLH6k"
      },
      "outputs": [],
      "source": [
        "import numpy as np\n",
        "import pandas as pd\n",
        "\n",
        "np.random.seed(2025)"
      ]
    },
    {
      "cell_type": "markdown",
      "id": "e3c20b3d",
      "metadata": {
        "id": "e3c20b3d"
      },
      "source": [
        "#### Pandas Exercise 01: Create a Series from a list, a NumPy array and a dictionary (★☆☆)\n",
        "\n",
        "> NOTE: Review the class `pd.Series` (https://pandas.pydata.org/docs/reference/api/pandas.Series.html)"
      ]
    },
    {
      "cell_type": "code",
      "execution_count": 12,
      "id": "awzdkTpgLivY",
      "metadata": {
        "colab": {
          "base_uri": "https://localhost:8080/"
        },
        "id": "awzdkTpgLivY",
        "outputId": "fce552fb-2d57-4c2c-96ba-a3a89fb498c2"
      },
      "outputs": [
        {
          "name": "stdout",
          "output_type": "stream",
          "text": [
            "0    1\n",
            "1    2\n",
            "2    3\n",
            "3    4\n",
            "4    5\n",
            "5    6\n",
            "dtype: int64\n",
            "0    1\n",
            "1    2\n",
            "2    3\n",
            "3    4\n",
            "4    5\n",
            "5    6\n",
            "dtype: int64\n",
            "A    1\n",
            "B    2\n",
            "C    3\n",
            "dtype: int64\n"
          ]
        }
      ],
      "source": [
        "# Creating a Serie From list\n",
        "l = [1, 2, 3, 4, 5, 6]\n",
        "serie = pd.Series(l)\n",
        "print(serie)\n",
        "\n",
        "# Creating a Serie From NumPy array\n",
        "array = np.array([1, 2, 3, 4, 5, 6])\n",
        "serie = pd.Series(array)\n",
        "print(serie)\n",
        "\n",
        "# Creating a Serie From dictionary\n",
        "d = {\"A\": 1, \"B\": 2, \"C\": 3}\n",
        "serie = pd.Series(d)\n",
        "print(serie)"
      ]
    },
    {
      "cell_type": "markdown",
      "id": "cb8185b8",
      "metadata": {
        "id": "cb8185b8"
      },
      "source": [
        "#### Pandas Exercise 02: Create a DataFrame from a NumPy array, a dictionary and a list of tuples (★☆☆)\n",
        "\n",
        "> NOTE: Review the class `pd.DataFrame` (https://pandas.pydata.org/docs/reference/api/pandas.DataFrame.html)"
      ]
    },
    {
      "cell_type": "code",
      "execution_count": 13,
      "id": "16cc6699",
      "metadata": {
        "colab": {
          "base_uri": "https://localhost:8080/",
          "height": 207
        },
        "id": "16cc6699",
        "outputId": "4606122f-4efc-4d05-96ef-8ce8cfcca05c"
      },
      "outputs": [
        {
          "data": {
            "text/html": [
              "<div>\n",
              "<style scoped>\n",
              "    .dataframe tbody tr th:only-of-type {\n",
              "        vertical-align: middle;\n",
              "    }\n",
              "\n",
              "    .dataframe tbody tr th {\n",
              "        vertical-align: top;\n",
              "    }\n",
              "\n",
              "    .dataframe thead th {\n",
              "        text-align: right;\n",
              "    }\n",
              "</style>\n",
              "<table border=\"1\" class=\"dataframe\">\n",
              "  <thead>\n",
              "    <tr style=\"text-align: right;\">\n",
              "      <th></th>\n",
              "      <th>0</th>\n",
              "      <th>1</th>\n",
              "      <th>2</th>\n",
              "      <th>3</th>\n",
              "      <th>4</th>\n",
              "    </tr>\n",
              "  </thead>\n",
              "  <tbody>\n",
              "    <tr>\n",
              "      <th>0</th>\n",
              "      <td>3</td>\n",
              "      <td>9</td>\n",
              "      <td>4</td>\n",
              "      <td>4</td>\n",
              "      <td>1</td>\n",
              "    </tr>\n",
              "    <tr>\n",
              "      <th>1</th>\n",
              "      <td>7</td>\n",
              "      <td>9</td>\n",
              "      <td>6</td>\n",
              "      <td>2</td>\n",
              "      <td>9</td>\n",
              "    </tr>\n",
              "    <tr>\n",
              "      <th>2</th>\n",
              "      <td>6</td>\n",
              "      <td>8</td>\n",
              "      <td>6</td>\n",
              "      <td>5</td>\n",
              "      <td>1</td>\n",
              "    </tr>\n",
              "    <tr>\n",
              "      <th>3</th>\n",
              "      <td>1</td>\n",
              "      <td>6</td>\n",
              "      <td>4</td>\n",
              "      <td>5</td>\n",
              "      <td>2</td>\n",
              "    </tr>\n",
              "    <tr>\n",
              "      <th>4</th>\n",
              "      <td>1</td>\n",
              "      <td>8</td>\n",
              "      <td>1</td>\n",
              "      <td>2</td>\n",
              "      <td>4</td>\n",
              "    </tr>\n",
              "  </tbody>\n",
              "</table>\n",
              "</div>"
            ],
            "text/plain": [
              "   0  1  2  3  4\n",
              "0  3  9  4  4  1\n",
              "1  7  9  6  2  9\n",
              "2  6  8  6  5  1\n",
              "3  1  6  4  5  2\n",
              "4  1  8  1  2  4"
            ]
          },
          "execution_count": 13,
          "metadata": {},
          "output_type": "execute_result"
        }
      ],
      "source": [
        "# Create a DataFrame from a From NumPy array\n",
        "array = np.random.randint(1, 10, size = (5, 5))\n",
        "dataframe = pd.DataFrame(array)\n",
        "dataframe"
      ]
    },
    {
      "cell_type": "code",
      "execution_count": 14,
      "id": "Zxh1VAkBMgsp",
      "metadata": {
        "colab": {
          "base_uri": "https://localhost:8080/",
          "height": 175
        },
        "id": "Zxh1VAkBMgsp",
        "outputId": "79e55ff4-891a-4e23-9ee9-e2a546a3edf5"
      },
      "outputs": [
        {
          "data": {
            "text/html": [
              "<div>\n",
              "<style scoped>\n",
              "    .dataframe tbody tr th:only-of-type {\n",
              "        vertical-align: middle;\n",
              "    }\n",
              "\n",
              "    .dataframe tbody tr th {\n",
              "        vertical-align: top;\n",
              "    }\n",
              "\n",
              "    .dataframe thead th {\n",
              "        text-align: right;\n",
              "    }\n",
              "</style>\n",
              "<table border=\"1\" class=\"dataframe\">\n",
              "  <thead>\n",
              "    <tr style=\"text-align: right;\">\n",
              "      <th></th>\n",
              "      <th>A</th>\n",
              "      <th>B</th>\n",
              "      <th>C</th>\n",
              "    </tr>\n",
              "  </thead>\n",
              "  <tbody>\n",
              "    <tr>\n",
              "      <th>0</th>\n",
              "      <td>27</td>\n",
              "      <td>10.000000</td>\n",
              "      <td>-2.759931</td>\n",
              "    </tr>\n",
              "    <tr>\n",
              "      <th>1</th>\n",
              "      <td>42</td>\n",
              "      <td>13.333333</td>\n",
              "      <td>0.146175</td>\n",
              "    </tr>\n",
              "    <tr>\n",
              "      <th>2</th>\n",
              "      <td>43</td>\n",
              "      <td>16.666667</td>\n",
              "      <td>-2.861095</td>\n",
              "    </tr>\n",
              "    <tr>\n",
              "      <th>3</th>\n",
              "      <td>37</td>\n",
              "      <td>20.000000</td>\n",
              "      <td>0.979251</td>\n",
              "    </tr>\n",
              "  </tbody>\n",
              "</table>\n",
              "</div>"
            ],
            "text/plain": [
              "    A          B         C\n",
              "0  27  10.000000 -2.759931\n",
              "1  42  13.333333  0.146175\n",
              "2  43  16.666667 -2.861095\n",
              "3  37  20.000000  0.979251"
            ]
          },
          "execution_count": 14,
          "metadata": {},
          "output_type": "execute_result"
        }
      ],
      "source": [
        "# Create a DataFrame from a dictonary\n",
        "\n",
        "# Las claves son \"A\", \"B\" y \"C\", y los valores son arreglos generados por funciones de NumPy\n",
        "# El diccionario d contiene tres arreglos:\n",
        "#   Clave \"A\": Números enteros aleatorios dentro de un rango.\n",
        "#   Clave \"B\": Valores equiespaciados en un intervalo.\n",
        "#   Clave \"C\": Valores aleatorios distribuidos normalmente.\n",
        "d = {\n",
        "    \"A\": np.random.randint(1, 50, size = 4),  #Genera un arreglo de 5 números enteros aleatorios entre 1 (inclusive) y 50 (exclusivo).\n",
        "    \"B\": np.linspace(10, 20, 4), # Crea un arreglo con 4 valores equiespaciados entre 10 y 20 (ambos incluidos)\n",
        "    \"C\": np.random.randn(4) # Genera un arreglo con 4 números aleatorios de una distribución normal (media=0, desviación estándar=1).\n",
        "}\n",
        "dataframe = pd.DataFrame(d)\n",
        "dataframe\n"
      ]
    },
    {
      "cell_type": "code",
      "execution_count": 15,
      "id": "rvcbbPwhN6c5",
      "metadata": {
        "colab": {
          "base_uri": "https://localhost:8080/",
          "height": 144
        },
        "id": "rvcbbPwhN6c5",
        "outputId": "87f33c16-8c36-4a7e-f0d4-62c89ea04fa9"
      },
      "outputs": [
        {
          "data": {
            "text/html": [
              "<div>\n",
              "<style scoped>\n",
              "    .dataframe tbody tr th:only-of-type {\n",
              "        vertical-align: middle;\n",
              "    }\n",
              "\n",
              "    .dataframe tbody tr th {\n",
              "        vertical-align: top;\n",
              "    }\n",
              "\n",
              "    .dataframe thead th {\n",
              "        text-align: right;\n",
              "    }\n",
              "</style>\n",
              "<table border=\"1\" class=\"dataframe\">\n",
              "  <thead>\n",
              "    <tr style=\"text-align: right;\">\n",
              "      <th></th>\n",
              "      <th>0</th>\n",
              "      <th>1</th>\n",
              "      <th>2</th>\n",
              "    </tr>\n",
              "  </thead>\n",
              "  <tbody>\n",
              "    <tr>\n",
              "      <th>0</th>\n",
              "      <td>11</td>\n",
              "      <td>22</td>\n",
              "      <td>33</td>\n",
              "    </tr>\n",
              "    <tr>\n",
              "      <th>1</th>\n",
              "      <td>44</td>\n",
              "      <td>55</td>\n",
              "      <td>66</td>\n",
              "    </tr>\n",
              "    <tr>\n",
              "      <th>2</th>\n",
              "      <td>77</td>\n",
              "      <td>88</td>\n",
              "      <td>99</td>\n",
              "    </tr>\n",
              "  </tbody>\n",
              "</table>\n",
              "</div>"
            ],
            "text/plain": [
              "    0   1   2\n",
              "0  11  22  33\n",
              "1  44  55  66\n",
              "2  77  88  99"
            ]
          },
          "execution_count": 15,
          "metadata": {},
          "output_type": "execute_result"
        }
      ],
      "source": [
        "# Create a DataFrame from a list of tuples\n",
        "\n",
        "t = [(11, 22, 33), (44, 55, 66), (77, 88, 99)] # Se crea una lista con tres tuplas. Cada tupla representa una fila en el futuro DataFrame.\n",
        "dataframe = pd.DataFrame(t) # Convierte la lista de tuplas en un DataFrame. Por defecto, las columnas se nombran automáticamente como 0, 1, 2 (índices de columnas).\n",
        "dataframe\n",
        "\n",
        "# Cada fila tiene un índice numérico (0, 1, 2), y cada columna también tiene un índice numérico (0, 1, 2)\n",
        "# Si deseas nombrar las columnas, puedes agregar el parámetro columns:\n",
        "# dataframe = pd.DataFrame(t, columns=['A', 'B', 'C'])\n",
        "# El resultado sería:\n",
        "#      A  B  C\n",
        "#   0  1  2  3\n",
        "#   1  4  5  6\n",
        "#   2  7  8  9"
      ]
    },
    {
      "cell_type": "markdown",
      "id": "96424fb7",
      "metadata": {
        "id": "96424fb7"
      },
      "source": [
        "#### Pandas Exercise 03: Create 2 Series and use them to build a DataFrame (★☆☆)\n",
        "\n",
        "> NOTE: Review the functions `pd.concat` (https://pandas.pydata.org/docs/reference/api/pandas.concat.html) and `pd.Series.to_frame` (https://pandas.pydata.org/docs/reference/api/pandas.Series.to_frame.html)"
      ]
    },
    {
      "cell_type": "code",
      "execution_count": 16,
      "id": "36ff398e",
      "metadata": {
        "colab": {
          "base_uri": "https://localhost:8080/",
          "height": 207
        },
        "id": "36ff398e",
        "outputId": "8d49df09-c635-414f-bdcb-f77ad60cc01d"
      },
      "outputs": [
        {
          "data": {
            "text/html": [
              "<div>\n",
              "<style scoped>\n",
              "    .dataframe tbody tr th:only-of-type {\n",
              "        vertical-align: middle;\n",
              "    }\n",
              "\n",
              "    .dataframe tbody tr th {\n",
              "        vertical-align: top;\n",
              "    }\n",
              "\n",
              "    .dataframe thead th {\n",
              "        text-align: right;\n",
              "    }\n",
              "</style>\n",
              "<table border=\"1\" class=\"dataframe\">\n",
              "  <thead>\n",
              "    <tr style=\"text-align: right;\">\n",
              "      <th></th>\n",
              "      <th>ser1</th>\n",
              "      <th>ser2</th>\n",
              "    </tr>\n",
              "  </thead>\n",
              "  <tbody>\n",
              "    <tr>\n",
              "      <th>0</th>\n",
              "      <td>11</td>\n",
              "      <td>44</td>\n",
              "    </tr>\n",
              "    <tr>\n",
              "      <th>1</th>\n",
              "      <td>22</td>\n",
              "      <td>55</td>\n",
              "    </tr>\n",
              "    <tr>\n",
              "      <th>2</th>\n",
              "      <td>33</td>\n",
              "      <td>66</td>\n",
              "    </tr>\n",
              "    <tr>\n",
              "      <th>3</th>\n",
              "      <td>44</td>\n",
              "      <td>77</td>\n",
              "    </tr>\n",
              "    <tr>\n",
              "      <th>4</th>\n",
              "      <td>55</td>\n",
              "      <td>88</td>\n",
              "    </tr>\n",
              "  </tbody>\n",
              "</table>\n",
              "</div>"
            ],
            "text/plain": [
              "   ser1  ser2\n",
              "0    11    44\n",
              "1    22    55\n",
              "2    33    66\n",
              "3    44    77\n",
              "4    55    88"
            ]
          },
          "execution_count": 16,
          "metadata": {},
          "output_type": "execute_result"
        }
      ],
      "source": [
        "# Create 2 Series and use them to build a DataFrame\n",
        "\n",
        "s1 = pd.Series([11, 22, 33, 44, 55])\n",
        "s2 = pd.Series([44, 55, 66, 77, 88])\n",
        "\n",
        "# Method 1\n",
        "dataframe = pd.DataFrame({\"ser1\": s1, \"ser2\": s2}) # Crear un DataFrame a partir de las Series. Se utiliza pd.DataFrame() para combinar las Series en un DataFrame. El argumento {\"ser1\": s1, \"ser2\": s2} asigna nombres de columna (ser1 y ser2) a las Series.\n",
        "dataframe = pd.DataFrame({\"ser1\": s1, \"ser2\": s2}, index = s1.index) # Crear un DataFrame con índices personalizados (basados en s1). index=s1.index asegura que el DataFrame use los índices de s1 (aunque aquí no cambia, ya que los índices ya coinciden).\n",
        "dataframe\n",
        "\n",
        "\n",
        "# Importante:\n",
        "# Si las Series tienen diferentes índices (por ejemplo, si s1 tiene índices 0-4 y s2 tiene índices 5-9),\n",
        "# pandas alineará las Series automáticamente por sus índices y rellenará los valores faltantes con NaN.\n",
        "#\n",
        "# Ejemplo con índices diferentes:\n",
        "#     s1 = pd.Series([1, 2, 3], index=[0, 1, 2])\n",
        "#     s2 = pd.Series([4, 5, 6], index=[2, 3, 4])\n",
        "#     dataframe = pd.DataFrame({\"ser1\": s1, \"ser2\": s2})\n",
        "#     print(dataframe)\n",
        "#\n",
        "# Resultado:\n",
        "#         ser1  ser2\n",
        "#     0   1.0   NaN\n",
        "#     1   2.0   NaN\n",
        "#     2   3.0   4.0\n",
        "#     3   NaN   5.0\n",
        "#     4   NaN   6.0\n"
      ]
    },
    {
      "cell_type": "code",
      "execution_count": 17,
      "id": "eQitLT7jSL1e",
      "metadata": {
        "colab": {
          "base_uri": "https://localhost:8080/",
          "height": 207
        },
        "id": "eQitLT7jSL1e",
        "outputId": "76c98925-b6f1-4fc4-e86f-427761a65c07"
      },
      "outputs": [
        {
          "data": {
            "text/html": [
              "<div>\n",
              "<style scoped>\n",
              "    .dataframe tbody tr th:only-of-type {\n",
              "        vertical-align: middle;\n",
              "    }\n",
              "\n",
              "    .dataframe tbody tr th {\n",
              "        vertical-align: top;\n",
              "    }\n",
              "\n",
              "    .dataframe thead th {\n",
              "        text-align: right;\n",
              "    }\n",
              "</style>\n",
              "<table border=\"1\" class=\"dataframe\">\n",
              "  <thead>\n",
              "    <tr style=\"text-align: right;\">\n",
              "      <th></th>\n",
              "      <th>0</th>\n",
              "      <th>1</th>\n",
              "    </tr>\n",
              "  </thead>\n",
              "  <tbody>\n",
              "    <tr>\n",
              "      <th>0</th>\n",
              "      <td>11</td>\n",
              "      <td>44</td>\n",
              "    </tr>\n",
              "    <tr>\n",
              "      <th>1</th>\n",
              "      <td>22</td>\n",
              "      <td>55</td>\n",
              "    </tr>\n",
              "    <tr>\n",
              "      <th>2</th>\n",
              "      <td>33</td>\n",
              "      <td>66</td>\n",
              "    </tr>\n",
              "    <tr>\n",
              "      <th>3</th>\n",
              "      <td>44</td>\n",
              "      <td>77</td>\n",
              "    </tr>\n",
              "    <tr>\n",
              "      <th>4</th>\n",
              "      <td>55</td>\n",
              "      <td>88</td>\n",
              "    </tr>\n",
              "  </tbody>\n",
              "</table>\n",
              "</div>"
            ],
            "text/plain": [
              "    0   1\n",
              "0  11  44\n",
              "1  22  55\n",
              "2  33  66\n",
              "3  44  77\n",
              "4  55  88"
            ]
          },
          "execution_count": 17,
          "metadata": {},
          "output_type": "execute_result"
        }
      ],
      "source": [
        "# Method 2\n",
        "#\n",
        "# Este código utiliza pd.concat para combinar las dos Series en un DataFrame.\n",
        "#\n",
        "# pd.concat es una función de pandas que se utiliza para concatenar objetos (como Series o DataFrames)\n",
        "# a lo largo de un eje:\n",
        "#   axis=0 (por filas, verticalmente).\n",
        "#   axis=1 (por columnas, horizontalmente).\n",
        "#\n",
        "# En este caso, las Series s1 y s2 se combinan por columnas (axis=1), formando un DataFrame.\n",
        "# El resultado tiene:\n",
        "#   Filas alineadas por índice.\n",
        "#   Cada Serie se convierte en una columna.\n",
        "\n",
        "dataframe = pd.concat([s1, s2], axis = 1)\n",
        "dataframe\n",
        "\n",
        "# Nombres de las columnas:\n",
        "# Por defecto, las columnas se nombran numéricamente (0, 1),\n",
        "# basadas en la posición de las Series en la lista [s1, s2].\n",
        "#\n",
        "# Si deseas nombrar las columnas, puedes hacerlo agregando el parámetro keys o usando columns:\n",
        "#     dataframe = pd.concat([s1, s2], axis=1)\n",
        "#     dataframe.columns = ['ser1', 'ser2']\n",
        "#\n",
        "# Generando el resultado:\n",
        "#         ser1  ser2\n",
        "#     0     1     4\n",
        "#     1     2     5\n",
        "#     2     3     6\n",
        "#     3     4     7\n",
        "#     4     5     8\n",
        "\n",
        "# Diferencias con el método 1 (pd.DataFrame):\n",
        "# (1) Flexibilidad:\n",
        "#     pd.concat es más flexible y puede combinar más de dos objetos fácilmente.\n",
        "#     Se puede usar con objetos que tengan índices diferentes, rellenando los valores faltantes con NaN.\n",
        "# (2) Control explícito del eje:\n",
        "#     Puedes elegir fácilmente si quieres combinar por filas (axis=0) o por columnas (axis=1)."
      ]
    },
    {
      "cell_type": "code",
      "execution_count": 18,
      "id": "AuKez3BUWaKO",
      "metadata": {
        "id": "AuKez3BUWaKO"
      },
      "outputs": [
        {
          "data": {
            "text/html": [
              "<div>\n",
              "<style scoped>\n",
              "    .dataframe tbody tr th:only-of-type {\n",
              "        vertical-align: middle;\n",
              "    }\n",
              "\n",
              "    .dataframe tbody tr th {\n",
              "        vertical-align: top;\n",
              "    }\n",
              "\n",
              "    .dataframe thead th {\n",
              "        text-align: right;\n",
              "    }\n",
              "</style>\n",
              "<table border=\"1\" class=\"dataframe\">\n",
              "  <thead>\n",
              "    <tr style=\"text-align: right;\">\n",
              "      <th></th>\n",
              "      <th>ser1</th>\n",
              "      <th>ser2</th>\n",
              "    </tr>\n",
              "  </thead>\n",
              "  <tbody>\n",
              "    <tr>\n",
              "      <th>0</th>\n",
              "      <td>11</td>\n",
              "      <td>44</td>\n",
              "    </tr>\n",
              "    <tr>\n",
              "      <th>1</th>\n",
              "      <td>22</td>\n",
              "      <td>55</td>\n",
              "    </tr>\n",
              "    <tr>\n",
              "      <th>2</th>\n",
              "      <td>33</td>\n",
              "      <td>66</td>\n",
              "    </tr>\n",
              "    <tr>\n",
              "      <th>3</th>\n",
              "      <td>44</td>\n",
              "      <td>77</td>\n",
              "    </tr>\n",
              "    <tr>\n",
              "      <th>4</th>\n",
              "      <td>55</td>\n",
              "      <td>88</td>\n",
              "    </tr>\n",
              "  </tbody>\n",
              "</table>\n",
              "</div>"
            ],
            "text/plain": [
              "   ser1  ser2\n",
              "0    11    44\n",
              "1    22    55\n",
              "2    33    66\n",
              "3    44    77\n",
              "4    55    88"
            ]
          },
          "execution_count": 18,
          "metadata": {},
          "output_type": "execute_result"
        }
      ],
      "source": [
        "# Method 3\n",
        "# Este código utiliza un enfoque diferente para crear un DataFrame a partir de dos Series.\n",
        "\n",
        "s1.name = \"ser1\" # Asignar nombres a las Serie 1\n",
        "s2.name = \"ser2\" # Asignar nombres a las Serie 2\n",
        "\n",
        "dataframe = s1.to_frame().join(s2) # Convertir la primera Serie en un DataFrame y unir la segunda Serie\n",
        "dataframe\n",
        "\n",
        "\n",
        "# Explicación:\n",
        "#\n",
        "#     1. Asignar nombres a las Series:\n",
        "#           s1.name = \"ser1\" y s2.name = \"ser2\" asignan nombres a las Series, que se usarán como los nombres de las columnas cuando se conviertan en un DataFrame.\n",
        "#\n",
        "#     2. Convertir s1 en un DataFrame:\n",
        "#           s1.to_frame() convierte la Serie s1 en un DataFrame con una única columna llamada \"ser1\".\n",
        "#\n",
        "# Resultado intermedio (s1.to_frame()):\n",
        "#               ser1\n",
        "#            0     1\n",
        "#            1     2\n",
        "#            2     3\n",
        "#            3     4\n",
        "#            4     5\n",
        "#\n",
        "#     3. Unir s2 al DataFrame:\n",
        "#           join(s2) agrega s2 como una nueva columna al DataFrame resultante.\n",
        "#           La unión se hace automáticamente con base en los índices de ambas Series.\n",
        "#\n",
        "# Resultado:\n",
        "#               ser1  ser2\n",
        "#            0     1     4\n",
        "#            1     2     5\n",
        "#            2     3     6\n",
        "#            3     4     7\n",
        "#            4     5     8\n",
        "#\n",
        "# Comparación con otros métodos:\n",
        "#       Ventajas:\n",
        "#       Este método es útil si deseas mantener control explícito sobre los nombres de las columnas\n",
        "#       desde las Series originales.\n",
        "#       La operación de unión está alineada automáticamente por índices.\n",
        "#\n",
        "#       Limitación:\n",
        "#       Si las Series tienen índices diferentes, los valores no coincidentes se rellenarán con NaN.\n",
        "#\n",
        "#\n",
        "# Ejemplo con índices diferentes:\n",
        "#      s1 = pd.Series([1, 2, 3], index=[0, 1, 2], name=\"ser1\")\n",
        "#      s2 = pd.Series([4, 5, 6], index=[1, 2, 3], name=\"ser2\")\n",
        "#      dataframe = s1.to_frame().join(s2)\n",
        "#\n",
        "# Resultado:\n",
        "#         ser1  ser2\n",
        "#      0   1.0   NaN\n",
        "#      1   2.0   4.0\n",
        "#      2   3.0   5.0\n",
        "#      3   NaN   6.0\n",
        "#\n",
        "# Alternativa: Usar pd.merge (para uniones más complejas):\n",
        "#      Si necesitas combinar Series o DataFrames basándote en columnas o índices específicos, puedes usar pd.merge.\n",
        "#      dataframe = pd.merge(s1.to_frame(), s2.to_frame(), left_index=True, right_index=True)\n",
        "#\n",
        "# Resultado:\n",
        "#         ser1  ser2\n",
        "#      0     1     4\n",
        "#      1     2     5\n",
        "#      2     3     6\n",
        "#      3     4     7\n",
        "#      4     5     8\n",
        "\n"
      ]
    },
    {
      "cell_type": "markdown",
      "id": "8caafb43",
      "metadata": {
        "id": "8caafb43"
      },
      "source": [
        "### Filtering and updating"
      ]
    },
    {
      "cell_type": "markdown",
      "id": "1499a0a6",
      "metadata": {
        "id": "1499a0a6"
      },
      "source": [
        "#### Exercise 04: Use the Series created in the previous exercise and select the positions of the elements of the first Series that are in the second Series (★★☆)\n",
        "\n",
        "> NOTE: Review the function `pd.Series.isin` (https://pandas.pydata.org/docs/reference/api/pandas.Series.isin.html)"
      ]
    },
    {
      "cell_type": "code",
      "execution_count": 19,
      "id": "5683a253",
      "metadata": {
        "colab": {
          "base_uri": "https://localhost:8080/"
        },
        "id": "5683a253",
        "outputId": "02571b94-3ed6-44e4-f598-cdfe304bad69"
      },
      "outputs": [
        {
          "data": {
            "text/plain": [
              "Index([3, 4], dtype='int64')"
            ]
          },
          "execution_count": 19,
          "metadata": {},
          "output_type": "execute_result"
        }
      ],
      "source": [
        "s1 = pd.Series([11, 22, 33, 44, 55])\n",
        "s2 = pd.Series([44, 55, 66, 77, 88])\n",
        "\n",
        "# Method 1: Using Pandas function\n",
        "# Este method encuentra las posiciones (índices) de los elementos de la primera Serie (s1)\n",
        "# que están presentes en la segunda Serie (s2).\n",
        "\n",
        "filtering_results = s1.isin(s2)\n",
        "indices = s1[filtering_results].index\n",
        "\n",
        "indices\n",
        "\n",
        "\n",
        "# Explicación:\n",
        "#\n",
        "#   1. s1.isin(s2):\n",
        "#      isin es una función de pandas que verifica si cada elemento de s1 está presente en s2.\n",
        "#      Devuelve una Serie booleana del mismo tamaño que s1, con True en las posiciones donde el elemento\n",
        "#      de s1 también está en s2.\n",
        "#\n",
        "#      Resultado intermedio (filtering_results):\n",
        "#              0    False\n",
        "#              1    False\n",
        "#              2    False\n",
        "#              3     True\n",
        "#              4     True\n",
        "#              dtype: bool\n",
        "#\n",
        "#\n",
        "#   2. s1[filtering_results]:\n",
        "#      Utiliza la Serie booleana como una máscara para filtrar los elementos de s1 que están presentes en s2.\n",
        "#\n",
        "#      Resultado intermedio (s1[filtering_results]):\n",
        "#             3    44\n",
        "#             4    55\n",
        "#             dtype: int64\n",
        "#\n",
        "#   3. .index:\n",
        "#       Obtiene los índices de los elementos filtrados en s1.\n",
        "#\n",
        "#       Resultado final (indices):\n",
        "#           Int64Index([3, 4], dtype='int64')\n",
        "#\n",
        "#       Estos índices (3 y 4) corresponden a las posiciones de los elementos de s1 (los valores 44 y 55) que también están en s2.\n",
        "#\n",
        "#   4. Alternativa: Usar comprensión de listas\n",
        "#      Si no quieres usar pandas, puedes hacerlo con una comprensión de listas:\n",
        "#      indices = [i for i, value in enumerate(s1) if value in s2]\n",
        "#\n",
        "#      Resultado:\n",
        "#           [3, 4]\n",
        "\n"
      ]
    },
    {
      "cell_type": "code",
      "execution_count": 20,
      "id": "icWlarYOd-Bz",
      "metadata": {
        "id": "icWlarYOd-Bz"
      },
      "outputs": [
        {
          "data": {
            "text/plain": [
              "(array([3, 4]),)"
            ]
          },
          "execution_count": 20,
          "metadata": {},
          "output_type": "execute_result"
        }
      ],
      "source": [
        "# Method 2: Using NumPy function\n",
        "# El método 2 utiliza la función de NumPy np.where para encontrar los índices de los elementos de la primera Serie (s1)\n",
        "# que están presentes en la segunda Serie (s2).\n",
        "\n",
        "indices = np.where(s1.isin(s2))\n",
        "indices\n",
        "\n",
        "# Explicación:\n",
        "#\n",
        "#       1. s1.isin(s2):\n",
        "#          Como en el método anterior, s1.isin(s2) verifica si cada elemento de s1 está en s2.\n",
        "#          Devuelve una Serie booleana indicando True donde hay coincidencias.\n",
        "#\n",
        "#          Resultado (s1.isin(s2)):\n",
        "#             0    False\n",
        "#             1    False\n",
        "#             2    False\n",
        "#             3     True\n",
        "#             4     True\n",
        "#             dtype: bool\n",
        "#\n",
        "#       2. np.where(s1.isin(s2)):\n",
        "#          np.where(condition) devuelve las posiciones (índices) donde la condición es True.\n",
        "#          En este caso, devuelve los índices donde s1.isin(s2) es True.\n",
        "#\n",
        "#          Resultado (indices):\n",
        "#             (array([3, 4]),)\n",
        "#\n",
        "#          El resultado es una tupla con un arreglo de índices.\n",
        "#          Aquí, los índices 3 y 4 corresponden a los valores de s1 (44 y 55) que están presentes en s2.\n",
        "#\n",
        "#       3. Acceder a los índices directamente:\n",
        "#          Si deseas obtener solo el arreglo de índices (sin la tupla), puedes extraer el primer elemento:\n",
        "#          indices = np.where(s1.isin(s2))[0]\n",
        "#\n",
        "#          Resultado:\n",
        "#             array([3, 4])\n",
        "#\n",
        "#       4. Diferencias con el método 1:\n",
        "#             Método 1 (s1[filtering_results].index):\n",
        "#             Devuelve un objeto Int64Index (propio de pandas).\n",
        "#\n",
        "#             Método 2 (np.where):\n",
        "#             Devuelve un arreglo de NumPy (array), que puede ser útil si estás trabajando con datos numéricos\n",
        "#             o necesitas realizar cálculos adicionales."
      ]
    },
    {
      "cell_type": "code",
      "execution_count": 21,
      "id": "B1dPoVIJgb65",
      "metadata": {
        "colab": {
          "base_uri": "https://localhost:8080/"
        },
        "id": "B1dPoVIJgb65",
        "outputId": "684e3723-f8d3-4678-b0a7-53b8464df4f1"
      },
      "outputs": [
        {
          "data": {
            "text/plain": [
              "[np.int64(3), np.int64(4)]"
            ]
          },
          "execution_count": 21,
          "metadata": {},
          "output_type": "execute_result"
        }
      ],
      "source": [
        "# Method 3: Using Python\n",
        "# El método 3 utiliza un bucle en Python puro para encontrar los índices de los elementos de la primera Serie (s1)\n",
        "# que están presentes en la segunda Serie (s2). Este enfoque no depende directamente de funciones avanzadas de pandas o NumPy.\n",
        "\n",
        "indices = []\n",
        "\n",
        "for value in s1.values:\n",
        "    if value in s2.values:\n",
        "        indices.append(s1[s1 == value].index[0])\n",
        "indices\n",
        "\n",
        "\n",
        "# Explicación:\n",
        "#       1. Inicializar la lista indices:\n",
        "#          Se crea una lista vacía para almacenar los índices de los elementos coincidentes.\n",
        "#\n",
        "#       2. Recorrer los valores de s1:\n",
        "#          El bucle for value in s1.values itera sobre cada elemento de s1.\n",
        "#          s1.values devuelve un arreglo de NumPy con los valores de la Serie, lo que permite trabajar con ellos directamente.\n",
        "#\n",
        "#       3. Verificar si el valor está en s2:\n",
        "#          La condición if value in s2.values verifica si el valor actual (value) está en los valores de s2.\n",
        "#\n",
        "#       4. Obtener el índice del valor coincidente:\n",
        "#          Si el valor está en s2, se usa s1[s1 == value] para filtrar el elemento correspondiente en s1.\n",
        "#          s1[s1 == value].index[0] extrae el índice del elemento coincidente en s1 y lo agrega a la lista indices.\n",
        "#\n",
        "#       5. Resultado final (indices):\n",
        "#          Después de que el bucle procesa todos los valores de s1, la lista indices contiene los índices de los\n",
        "#          elementos de s1 que están presentes en s2.\n",
        "#\n",
        "#          Resultado:\n",
        "#          [3, 4]\n",
        "#\n",
        "#          Estos índices corresponden a los valores 44 y 55 en s1, que están presentes en s2.\n",
        "#\n",
        "#       6. Comparación con otros métodos:\n",
        "#\n",
        "#          Ventajas:\n",
        "#          Este método es más intuitivo si estás familiarizado con bucles en Python y quieres evitar usar funciones avanzadas.\n",
        "#          Es fácil de personalizar si necesitas realizar operaciones adicionales dentro del bucle.\n",
        "#\n",
        "#         Desventajas:\n",
        "#         Eficiencia: Este método es más lento que usar pandas o NumPy, especialmente para Series grandes, porque el bucle y\n",
        "#         las búsquedas repetitivas (value in s2.values) no están optimizadas.\n",
        "#         Legibilidad: Para operaciones estándar como esta, pandas o NumPy suelen ser más legibles y concisos.\n",
        "#\n",
        "#       7. Alternativa: Evitar index[0] con enumeración\n",
        "#          Podrías usar enumerate para evitar buscar el índice directamente:\n",
        "#          indices = [i for i, value in enumerate(s1) if value in s2.values]\n",
        "#\n",
        "#          Resultado:\n",
        "#          [3, 4]"
      ]
    },
    {
      "cell_type": "markdown",
      "id": "4303b614",
      "metadata": {
        "id": "4303b614"
      },
      "source": [
        "#### Pandas Exercise 05: Use the series created in exercise 03 and list the elements that are not common between both series (★★☆)"
      ]
    },
    {
      "cell_type": "code",
      "execution_count": 22,
      "id": "477e01f4",
      "metadata": {
        "colab": {
          "base_uri": "https://localhost:8080/"
        },
        "id": "477e01f4",
        "outputId": "649a6124-d09d-4fb3-fbda-0543a8477e33"
      },
      "outputs": [
        {
          "data": {
            "text/plain": [
              "array([11, 22, 33, 66, 77, 88])"
            ]
          },
          "execution_count": 22,
          "metadata": {},
          "output_type": "execute_result"
        }
      ],
      "source": [
        "s1 = pd.Series([11, 22, 33, 44, 55])\n",
        "s2 = pd.Series([44, 55, 66, 77, 88])\n",
        "\n",
        "# Method 1\n",
        "# Encontrar elementos únicos en cada Serie\n",
        "unique_s1 = s1[~s1.isin(s2)] # Elementos de s1 que no están en s2\n",
        "unique_s2 = s2[~s2.isin(s1)] # Elementos de s2 que no están en s1\n",
        "\n",
        "unique_elements = np.concatenate([unique_s1, unique_s2]) # Combinar los elementos únicos de ambas Series\n",
        "unique_elements\n",
        "\n",
        "# Explicación:\n",
        "#\n",
        "#     1. s1.isin(s2):\n",
        "#        Verifica qué elementos de s1 están presentes en s2.\n",
        "#        Devuelve una Serie booleana con True donde el elemento de s1 también está en s2.\n",
        "#\n",
        "#     2. ~s1.isin(s2):\n",
        "#        El operador ~ invierte los valores booleanos, convirtiendo True en False y viceversa.\n",
        "#        Así, ~s1.isin(s2) devuelve True para los elementos de s1 que no están en s2.\n",
        "#\n",
        "#     3. Filtrar los elementos únicos:\n",
        "#         s1[~s1.isin(s2)]: Filtra los elementos de s1 que no están en s2.\n",
        "#         s2[~s2.isin(s1)]: Filtra los elementos de s2 que no están en s1.\n",
        "#\n",
        "#         Resultados intermedios:\n",
        "#\n",
        "#         unique_s1:\n",
        "#           0    11\n",
        "#           1    22\n",
        "#           2    33\n",
        "#           dtype: int64\n",
        "#         unique_s2:\n",
        "#           2    66\n",
        "#           3    77\n",
        "#           4    88\n",
        "#          dtype: int64\n",
        "#\n",
        "#     4. Combinar los elementos únicos:\n",
        "#         np.concatenate combina los valores únicos de unique_s1 y unique_s2\n",
        "#         en un único arreglo de NumPy.\n",
        "#\n",
        "#        Resultado final (unique_elements):\n",
        "##         array([11, 22, 33, 66, 77, 88])"
      ]
    },
    {
      "cell_type": "code",
      "execution_count": 23,
      "id": "msWN5EFEeV3n",
      "metadata": {
        "colab": {
          "base_uri": "https://localhost:8080/"
        },
        "id": "msWN5EFEeV3n",
        "outputId": "095c3fad-8099-4634-f11f-aa962cd463fa"
      },
      "outputs": [
        {
          "data": {
            "text/plain": [
              "array([11, 22, 33, 66, 77, 88])"
            ]
          },
          "execution_count": 23,
          "metadata": {},
          "output_type": "execute_result"
        }
      ],
      "source": [
        "# Method 2\n",
        "# utiliza la función pd.concat y el método duplicated de pandas para encontrar los elementos\n",
        "# únicos que no se repiten entre las dos Series (s1 y s2).\n",
        "\n",
        "concat = pd.concat([s1, s2]) # Combinar ambas Series\n",
        "unique_elements = concat[~concat.duplicated(keep = False)].values # Filtrar elementos únicos\n",
        "unique_elements\n",
        "\n",
        "\n",
        "# Explicación:\n",
        "#\n",
        "#       1. Concatenar las Series (pd.concat):\n",
        "#             pd.concat([s1, s2]) combina las dos Series en una sola.\n",
        "#             La nueva Serie contiene todos los elementos de s1 y s2, uno tras otro.\n",
        "#\n",
        "#             Resultado (concat):\n",
        "#                      0    11\n",
        "#                      1    22\n",
        "#                      2    33\n",
        "#                      3    44\n",
        "#                      4    55\n",
        "#                      0    44\n",
        "#                      1    55\n",
        "#                      2    66\n",
        "#                      3    77\n",
        "#                      4    88\n",
        "#                      dtype: int64\n",
        "#\n",
        "#       2. Identificar duplicados (duplicated):\n",
        "#             concat.duplicated(keep=False): Marca todos los elementos que aparecen más de una vez como True.\n",
        "#             keep=False indica que todas las ocurrencias de los duplicados se marcarán como True (no solo la primera o última).\n",
        "#\n",
        "#             Resultado (concat.duplicated(keep=False)):\n",
        "#                      0    False\n",
        "#                      1    False\n",
        "#                      2    False\n",
        "#                      3     True\n",
        "#                      4     True\n",
        "#                      0     True\n",
        "#                      1     True\n",
        "#                      2    False\n",
        "#                      3    False\n",
        "#                      4    False\n",
        "#                      dtype: bool\n",
        "#\n",
        "#       3. Filtrar elementos únicos (~concat.duplicated):\n",
        "#             El operador ~ invierte los valores booleanos, seleccionando solo los elementos no duplicados.\n",
        "#\n",
        "#             Resultado (concat[~concat.duplicated(keep=False)]):\n",
        "#                        0    11\n",
        "#                        1    22\n",
        "#                        2    33\n",
        "#                        2    66\n",
        "#                        3    77\n",
        "#                        4    88\n",
        "#                        dtype: int64\n",
        "#\n",
        "#       4. Obtener los valores como un arreglo:\n",
        "#             .values convierte la Serie resultante en un arreglo de NumPy.\n",
        "#\n",
        "#             Resultado final (unique_elements):\n",
        "#             array([11, 22, 33, 66, 77, 88])\n",
        "#\n",
        "#       5. Comparacion entre Metodos:\n",
        "#\n",
        "#             Metodo 1:\n",
        "#               * Usa operaciones de filtrado y concatenación explícitas (isin, np.concatenate).\n",
        "#               * Más fácil de entender si estás comenzando con pandas.\n",
        "#\n",
        "#             Método 2:\n",
        "#               * Es más compacto y aprovecha el comportamiento de duplicated.\n",
        "#               * Útil cuando trabajas con conjuntos de datos más grandes o más complejos.\n",
        "#\n",
        "#\n",
        "#        6. Alternativa:\n",
        "#\n",
        "#             (1) Usar value_counts\n",
        "#                 Si prefieres otra forma, puedes usar value_counts:\n",
        "#\n",
        "#               concat = pd.concat([s1, s2])\n",
        "#               unique_elements = concat[concat.map(concat.value_counts()) == 1].values\n",
        "#               Resultado:\n",
        "#               array([11, 22, 33, 66, 77, 88])\n",
        "#\n",
        "#\n",
        "#             (2) Usar operaciones de conjuntos\n",
        "#                 unique_elements = pd.Series(list(set(s1) ^ set(s2)))\n",
        "#                 Resultado:\n",
        "#                          0    33\n",
        "#                          1    66\n",
        "#                          2    11\n",
        "#                          3    77\n",
        "#                          4    88\n",
        "#                          5    22\n",
        "#                          dtype: int64\n",
        "#\n",
        "#                Aquí, set(s1) ^ set(s2) (operador XOR) devuelve los elementos que están\n",
        "#                en uno de los conjuntos, pero no en ambos."
      ]
    },
    {
      "cell_type": "markdown",
      "id": "4e7ad59c",
      "metadata": {
        "id": "4e7ad59c"
      },
      "source": [
        "#### Pandas Exercise 06: Create a DataFrame of random numbers with 5 columns and 10 rows and sort one of its columns from smallest to largest (★★☆)\n",
        "\n",
        "> NOTE: Review the function `pd.DataFrame.sort_values` (https://pandas.pydata.org/docs/reference/api/pandas.DataFrame.sort_values.html)"
      ]
    },
    {
      "cell_type": "code",
      "execution_count": 24,
      "id": "82de9a71",
      "metadata": {
        "colab": {
          "base_uri": "https://localhost:8080/",
          "height": 363
        },
        "id": "82de9a71",
        "outputId": "fbee7192-02c6-4bbc-cce7-4e0a56e305f8"
      },
      "outputs": [
        {
          "data": {
            "text/html": [
              "<div>\n",
              "<style scoped>\n",
              "    .dataframe tbody tr th:only-of-type {\n",
              "        vertical-align: middle;\n",
              "    }\n",
              "\n",
              "    .dataframe tbody tr th {\n",
              "        vertical-align: top;\n",
              "    }\n",
              "\n",
              "    .dataframe thead th {\n",
              "        text-align: right;\n",
              "    }\n",
              "</style>\n",
              "<table border=\"1\" class=\"dataframe\">\n",
              "  <thead>\n",
              "    <tr style=\"text-align: right;\">\n",
              "      <th></th>\n",
              "      <th>Col 0</th>\n",
              "      <th>Col 1</th>\n",
              "      <th>Col 2</th>\n",
              "      <th>Col 3</th>\n",
              "      <th>Col 4</th>\n",
              "    </tr>\n",
              "  </thead>\n",
              "  <tbody>\n",
              "    <tr>\n",
              "      <th>1</th>\n",
              "      <td>5.707688</td>\n",
              "      <td>9.934641</td>\n",
              "      <td>0.038274</td>\n",
              "      <td>4.019576</td>\n",
              "      <td>8.744321</td>\n",
              "    </tr>\n",
              "    <tr>\n",
              "      <th>2</th>\n",
              "      <td>4.985853</td>\n",
              "      <td>7.229037</td>\n",
              "      <td>1.453269</td>\n",
              "      <td>9.218660</td>\n",
              "      <td>1.753861</td>\n",
              "    </tr>\n",
              "    <tr>\n",
              "      <th>6</th>\n",
              "      <td>4.692819</td>\n",
              "      <td>4.559681</td>\n",
              "      <td>1.901784</td>\n",
              "      <td>3.543403</td>\n",
              "      <td>3.486169</td>\n",
              "    </tr>\n",
              "    <tr>\n",
              "      <th>4</th>\n",
              "      <td>2.514036</td>\n",
              "      <td>2.143482</td>\n",
              "      <td>2.155574</td>\n",
              "      <td>8.409226</td>\n",
              "      <td>7.592550</td>\n",
              "    </tr>\n",
              "    <tr>\n",
              "      <th>8</th>\n",
              "      <td>6.997703</td>\n",
              "      <td>3.436625</td>\n",
              "      <td>2.291400</td>\n",
              "      <td>2.733869</td>\n",
              "      <td>0.193536</td>\n",
              "    </tr>\n",
              "    <tr>\n",
              "      <th>9</th>\n",
              "      <td>4.637364</td>\n",
              "      <td>6.628434</td>\n",
              "      <td>2.496699</td>\n",
              "      <td>4.039304</td>\n",
              "      <td>3.395942</td>\n",
              "    </tr>\n",
              "    <tr>\n",
              "      <th>0</th>\n",
              "      <td>1.470837</td>\n",
              "      <td>0.627213</td>\n",
              "      <td>4.837169</td>\n",
              "      <td>1.272067</td>\n",
              "      <td>7.923145</td>\n",
              "    </tr>\n",
              "    <tr>\n",
              "      <th>7</th>\n",
              "      <td>9.698018</td>\n",
              "      <td>9.259543</td>\n",
              "      <td>8.068042</td>\n",
              "      <td>7.588603</td>\n",
              "      <td>5.724249</td>\n",
              "    </tr>\n",
              "    <tr>\n",
              "      <th>5</th>\n",
              "      <td>1.280747</td>\n",
              "      <td>0.414106</td>\n",
              "      <td>8.675114</td>\n",
              "      <td>4.317291</td>\n",
              "      <td>5.510284</td>\n",
              "    </tr>\n",
              "    <tr>\n",
              "      <th>3</th>\n",
              "      <td>8.581343</td>\n",
              "      <td>0.807201</td>\n",
              "      <td>9.964276</td>\n",
              "      <td>8.308638</td>\n",
              "      <td>0.247543</td>\n",
              "    </tr>\n",
              "  </tbody>\n",
              "</table>\n",
              "</div>"
            ],
            "text/plain": [
              "      Col 0     Col 1     Col 2     Col 3     Col 4\n",
              "1  5.707688  9.934641  0.038274  4.019576  8.744321\n",
              "2  4.985853  7.229037  1.453269  9.218660  1.753861\n",
              "6  4.692819  4.559681  1.901784  3.543403  3.486169\n",
              "4  2.514036  2.143482  2.155574  8.409226  7.592550\n",
              "8  6.997703  3.436625  2.291400  2.733869  0.193536\n",
              "9  4.637364  6.628434  2.496699  4.039304  3.395942\n",
              "0  1.470837  0.627213  4.837169  1.272067  7.923145\n",
              "7  9.698018  9.259543  8.068042  7.588603  5.724249\n",
              "5  1.280747  0.414106  8.675114  4.317291  5.510284\n",
              "3  8.581343  0.807201  9.964276  8.308638  0.247543"
            ]
          },
          "execution_count": 24,
          "metadata": {},
          "output_type": "execute_result"
        }
      ],
      "source": [
        "# El código crea un DataFrame de números aleatorios con 5 columnas y 10 filas,\n",
        "# y cada número es un valor flotante entre 0 y 10. Después, puedes ordenar una\n",
        "# de las columnas de menor a mayor.\n",
        "\n",
        "\n",
        "df = pd.DataFrame(np.random.rand(10, 5) * 10, columns = [f\"Col {i}\" for i in range(5)])\n",
        "df\n",
        "# df.sort_values(\"Col 0\")\n",
        "df.sort_values(by = [\"Col 2\", \"Col 4\"], ascending=[True, False])\n",
        "\n",
        "\n",
        "# Explicación:\n",
        "#\n",
        "#       1. np.random.rand(10, 5) * 10:\n",
        "#             np.random.rand(10, 5): Genera una matriz de números aleatorios con 10 filas y 5 columnas. Los valores están entre 0 y 1.\n",
        "#              * 10: Multiplica cada valor por 10, escalando los números al rango [0, 10).\n",
        "#\n",
        "#       2. columns=[f\"Col {i}\" for i in range(5)]:\n",
        "#             Crea una lista de nombres de columnas usando comprensión de listas.\n",
        "#             [f\"Col {i}\" for i in range(5)] genera: ['Col 0', 'Col 1', 'Col 2', 'Col 3', 'Col 4'].\n",
        "#\n",
        "#       3. df.sort_values(by = [\"Col 2\", \"Col 4\"])\n",
        "#             Ordena el DataFrame según los valores de multiples columnas.\n",
        "#             Primero ordena por la columna \"Col 2\", y Si hay filas con valores idénticos en \"Col 2\",\n",
        "#             se utiliza \"Col 4\" como criterio secundario para deshacer los empates.\n",
        "#             by = [\"Col 2\", \"Col 4\"]: Especifica las columnas por las que deseas ordenar.\n",
        "#             Por defecto, el orden es ascendente para ambas columnas.\n",
        "#             ascending=[True, False]: Ordena \"Col 2\" de forma ascendente y \"Col 4\" descendente."
      ]
    },
    {
      "cell_type": "markdown",
      "id": "09f77d6a",
      "metadata": {
        "id": "09f77d6a"
      },
      "source": [
        "#### Pandas Exercise 07: Modify the name of the 5 columns of the above DataFrame to the following format: `N_column` where `N` is the column number (★★☆)\n",
        "\n",
        "> NOTE: Review the function `pd.DataFrame.sort_values` (https://pandas.pydata.org/docs/reference/api/pandas.DataFrame.sort_values.html)"
      ]
    },
    {
      "cell_type": "code",
      "execution_count": 25,
      "id": "6c65fe4f",
      "metadata": {
        "id": "6c65fe4f"
      },
      "outputs": [
        {
          "data": {
            "text/html": [
              "<div>\n",
              "<style scoped>\n",
              "    .dataframe tbody tr th:only-of-type {\n",
              "        vertical-align: middle;\n",
              "    }\n",
              "\n",
              "    .dataframe tbody tr th {\n",
              "        vertical-align: top;\n",
              "    }\n",
              "\n",
              "    .dataframe thead th {\n",
              "        text-align: right;\n",
              "    }\n",
              "</style>\n",
              "<table border=\"1\" class=\"dataframe\">\n",
              "  <thead>\n",
              "    <tr style=\"text-align: right;\">\n",
              "      <th></th>\n",
              "      <th>0_column</th>\n",
              "      <th>1_column</th>\n",
              "      <th>2_column</th>\n",
              "      <th>3_column</th>\n",
              "      <th>4_column</th>\n",
              "    </tr>\n",
              "  </thead>\n",
              "  <tbody>\n",
              "    <tr>\n",
              "      <th>0</th>\n",
              "      <td>1.470837</td>\n",
              "      <td>0.627213</td>\n",
              "      <td>4.837169</td>\n",
              "      <td>1.272067</td>\n",
              "      <td>7.923145</td>\n",
              "    </tr>\n",
              "    <tr>\n",
              "      <th>1</th>\n",
              "      <td>5.707688</td>\n",
              "      <td>9.934641</td>\n",
              "      <td>0.038274</td>\n",
              "      <td>4.019576</td>\n",
              "      <td>8.744321</td>\n",
              "    </tr>\n",
              "    <tr>\n",
              "      <th>2</th>\n",
              "      <td>4.985853</td>\n",
              "      <td>7.229037</td>\n",
              "      <td>1.453269</td>\n",
              "      <td>9.218660</td>\n",
              "      <td>1.753861</td>\n",
              "    </tr>\n",
              "    <tr>\n",
              "      <th>3</th>\n",
              "      <td>8.581343</td>\n",
              "      <td>0.807201</td>\n",
              "      <td>9.964276</td>\n",
              "      <td>8.308638</td>\n",
              "      <td>0.247543</td>\n",
              "    </tr>\n",
              "    <tr>\n",
              "      <th>4</th>\n",
              "      <td>2.514036</td>\n",
              "      <td>2.143482</td>\n",
              "      <td>2.155574</td>\n",
              "      <td>8.409226</td>\n",
              "      <td>7.592550</td>\n",
              "    </tr>\n",
              "    <tr>\n",
              "      <th>5</th>\n",
              "      <td>1.280747</td>\n",
              "      <td>0.414106</td>\n",
              "      <td>8.675114</td>\n",
              "      <td>4.317291</td>\n",
              "      <td>5.510284</td>\n",
              "    </tr>\n",
              "    <tr>\n",
              "      <th>6</th>\n",
              "      <td>4.692819</td>\n",
              "      <td>4.559681</td>\n",
              "      <td>1.901784</td>\n",
              "      <td>3.543403</td>\n",
              "      <td>3.486169</td>\n",
              "    </tr>\n",
              "    <tr>\n",
              "      <th>7</th>\n",
              "      <td>9.698018</td>\n",
              "      <td>9.259543</td>\n",
              "      <td>8.068042</td>\n",
              "      <td>7.588603</td>\n",
              "      <td>5.724249</td>\n",
              "    </tr>\n",
              "    <tr>\n",
              "      <th>8</th>\n",
              "      <td>6.997703</td>\n",
              "      <td>3.436625</td>\n",
              "      <td>2.291400</td>\n",
              "      <td>2.733869</td>\n",
              "      <td>0.193536</td>\n",
              "    </tr>\n",
              "    <tr>\n",
              "      <th>9</th>\n",
              "      <td>4.637364</td>\n",
              "      <td>6.628434</td>\n",
              "      <td>2.496699</td>\n",
              "      <td>4.039304</td>\n",
              "      <td>3.395942</td>\n",
              "    </tr>\n",
              "  </tbody>\n",
              "</table>\n",
              "</div>"
            ],
            "text/plain": [
              "   0_column  1_column  2_column  3_column  4_column\n",
              "0  1.470837  0.627213  4.837169  1.272067  7.923145\n",
              "1  5.707688  9.934641  0.038274  4.019576  8.744321\n",
              "2  4.985853  7.229037  1.453269  9.218660  1.753861\n",
              "3  8.581343  0.807201  9.964276  8.308638  0.247543\n",
              "4  2.514036  2.143482  2.155574  8.409226  7.592550\n",
              "5  1.280747  0.414106  8.675114  4.317291  5.510284\n",
              "6  4.692819  4.559681  1.901784  3.543403  3.486169\n",
              "7  9.698018  9.259543  8.068042  7.588603  5.724249\n",
              "8  6.997703  3.436625  2.291400  2.733869  0.193536\n",
              "9  4.637364  6.628434  2.496699  4.039304  3.395942"
            ]
          },
          "execution_count": 25,
          "metadata": {},
          "output_type": "execute_result"
        }
      ],
      "source": [
        "df.columns = [f\"{i}_column\" for i in range(5)]\n",
        "df\n",
        "\n",
        "# Explicación:\n",
        "#         (1) df.columns:\n",
        "#                   Es un atributo del DataFrame que contiene los nombres actuales de las columnas.\n",
        "#                   Al asignar una nueva lista a df.columns, puedes cambiar los nombres.\n",
        "#               \n",
        "#         (2) [f\"{i}_column\" for i in range(5)]:\n",
        "#                   range(5): Genera una secuencia de números de 0 a 4 (un número por cada columna en el DataFrame).\n",
        "#                   f\"{i}_column\": Usa una cadena formateada para construir el nombre de cada columna como \"0_column\", \"1_column\", ..., \"4_column\".\n",
        "#                   El resultado es una lista: [\"0_column\", \"1_column\", \"2_column\", \"3_column\", \"4_column\"].\n",
        "#         \n",
        "#         (3) Asignación:\n",
        "#                   La lista generada reemplaza los nombres originales de las columnas."
      ]
    },
    {
      "cell_type": "markdown",
      "id": "c0e940f8",
      "metadata": {
        "id": "c0e940f8"
      },
      "source": [
        "#### Pandas Exercise 08: Modify the index of the rows of the DataFrame of exercise 06 (★★☆)\n",
        "\n",
        "> NOTE: Review the function `pd.DataFrame.sort_values` (https://pandas.pydata.org/docs/reference/api/pandas.DataFrame.sort_values.html)"
      ]
    },
    {
      "cell_type": "code",
      "execution_count": 27,
      "id": "820dc7a5",
      "metadata": {
        "id": "820dc7a5"
      },
      "outputs": [
        {
          "data": {
            "text/html": [
              "<div>\n",
              "<style scoped>\n",
              "    .dataframe tbody tr th:only-of-type {\n",
              "        vertical-align: middle;\n",
              "    }\n",
              "\n",
              "    .dataframe tbody tr th {\n",
              "        vertical-align: top;\n",
              "    }\n",
              "\n",
              "    .dataframe thead th {\n",
              "        text-align: right;\n",
              "    }\n",
              "</style>\n",
              "<table border=\"1\" class=\"dataframe\">\n",
              "  <thead>\n",
              "    <tr style=\"text-align: right;\">\n",
              "      <th></th>\n",
              "      <th>0_column</th>\n",
              "      <th>1_column</th>\n",
              "      <th>2_column</th>\n",
              "      <th>3_column</th>\n",
              "      <th>4_column</th>\n",
              "    </tr>\n",
              "  </thead>\n",
              "  <tbody>\n",
              "    <tr>\n",
              "      <th>0_row</th>\n",
              "      <td>1.470837</td>\n",
              "      <td>0.627213</td>\n",
              "      <td>4.837169</td>\n",
              "      <td>1.272067</td>\n",
              "      <td>7.923145</td>\n",
              "    </tr>\n",
              "    <tr>\n",
              "      <th>1_row</th>\n",
              "      <td>5.707688</td>\n",
              "      <td>9.934641</td>\n",
              "      <td>0.038274</td>\n",
              "      <td>4.019576</td>\n",
              "      <td>8.744321</td>\n",
              "    </tr>\n",
              "    <tr>\n",
              "      <th>2_row</th>\n",
              "      <td>4.985853</td>\n",
              "      <td>7.229037</td>\n",
              "      <td>1.453269</td>\n",
              "      <td>9.218660</td>\n",
              "      <td>1.753861</td>\n",
              "    </tr>\n",
              "    <tr>\n",
              "      <th>3_row</th>\n",
              "      <td>8.581343</td>\n",
              "      <td>0.807201</td>\n",
              "      <td>9.964276</td>\n",
              "      <td>8.308638</td>\n",
              "      <td>0.247543</td>\n",
              "    </tr>\n",
              "    <tr>\n",
              "      <th>4_row</th>\n",
              "      <td>2.514036</td>\n",
              "      <td>2.143482</td>\n",
              "      <td>2.155574</td>\n",
              "      <td>8.409226</td>\n",
              "      <td>7.592550</td>\n",
              "    </tr>\n",
              "    <tr>\n",
              "      <th>5_row</th>\n",
              "      <td>1.280747</td>\n",
              "      <td>0.414106</td>\n",
              "      <td>8.675114</td>\n",
              "      <td>4.317291</td>\n",
              "      <td>5.510284</td>\n",
              "    </tr>\n",
              "    <tr>\n",
              "      <th>6_row</th>\n",
              "      <td>4.692819</td>\n",
              "      <td>4.559681</td>\n",
              "      <td>1.901784</td>\n",
              "      <td>3.543403</td>\n",
              "      <td>3.486169</td>\n",
              "    </tr>\n",
              "    <tr>\n",
              "      <th>7_row</th>\n",
              "      <td>9.698018</td>\n",
              "      <td>9.259543</td>\n",
              "      <td>8.068042</td>\n",
              "      <td>7.588603</td>\n",
              "      <td>5.724249</td>\n",
              "    </tr>\n",
              "    <tr>\n",
              "      <th>8_row</th>\n",
              "      <td>6.997703</td>\n",
              "      <td>3.436625</td>\n",
              "      <td>2.291400</td>\n",
              "      <td>2.733869</td>\n",
              "      <td>0.193536</td>\n",
              "    </tr>\n",
              "    <tr>\n",
              "      <th>9_row</th>\n",
              "      <td>4.637364</td>\n",
              "      <td>6.628434</td>\n",
              "      <td>2.496699</td>\n",
              "      <td>4.039304</td>\n",
              "      <td>3.395942</td>\n",
              "    </tr>\n",
              "  </tbody>\n",
              "</table>\n",
              "</div>"
            ],
            "text/plain": [
              "       0_column  1_column  2_column  3_column  4_column\n",
              "0_row  1.470837  0.627213  4.837169  1.272067  7.923145\n",
              "1_row  5.707688  9.934641  0.038274  4.019576  8.744321\n",
              "2_row  4.985853  7.229037  1.453269  9.218660  1.753861\n",
              "3_row  8.581343  0.807201  9.964276  8.308638  0.247543\n",
              "4_row  2.514036  2.143482  2.155574  8.409226  7.592550\n",
              "5_row  1.280747  0.414106  8.675114  4.317291  5.510284\n",
              "6_row  4.692819  4.559681  1.901784  3.543403  3.486169\n",
              "7_row  9.698018  9.259543  8.068042  7.588603  5.724249\n",
              "8_row  6.997703  3.436625  2.291400  2.733869  0.193536\n",
              "9_row  4.637364  6.628434  2.496699  4.039304  3.395942"
            ]
          },
          "execution_count": 27,
          "metadata": {},
          "output_type": "execute_result"
        }
      ],
      "source": [
        "df.index = [f\"{i}_row\" for i in range(10)]\n",
        "df\n",
        "\n",
        "# El código cambia los índices de las filas del DataFrame al formato N_row, \n",
        "# donde N es el índice numérico de cada fila.\n",
        "\n",
        "# Explicación:\n",
        "#   \n",
        "#   (1) df.index:\n",
        "#           Es un atributo del DataFrame que contiene los índices actuales de las filas.\n",
        "#           Al asignar una nueva lista a df.index, puedes cambiar los nombres de los índices.\n",
        "# \n",
        "#   (2) [f\"{i}_row\" for i in range(10)]:\n",
        "#           range(10): Genera una secuencia de números de 0 a 9 (un número por cada fila en el DataFrame).\n",
        "#           f\"{i}_row\": Usa una cadena formateada para construir el nombre de cada fila como \"0_row\", \"1_row\", ..., \"9_row\".\n",
        "#           El resultado es una lista: [\"0_row\", \"1_row\", \"2_row\", ..., \"9_row\"].\n",
        "#   \n",
        "#   (3) Asignación:\n",
        "#           La lista generada reemplaza los índices originales de las filas.\n"
      ]
    }
  ],
  "metadata": {
    "colab": {
      "include_colab_link": true,
      "provenance": []
    },
    "kernelspec": {
      "display_name": ".venv",
      "language": "python",
      "name": "python3"
    },
    "language_info": {
      "codemirror_mode": {
        "name": "ipython",
        "version": 3
      },
      "file_extension": ".py",
      "mimetype": "text/x-python",
      "name": "python",
      "nbconvert_exporter": "python",
      "pygments_lexer": "ipython3",
      "version": "3.12.1"
    }
  },
  "nbformat": 4,
  "nbformat_minor": 5
}
